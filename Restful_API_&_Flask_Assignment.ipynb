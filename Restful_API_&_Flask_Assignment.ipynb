{
  "nbformat": 4,
  "nbformat_minor": 0,
  "metadata": {
    "colab": {
      "provenance": []
    },
    "kernelspec": {
      "name": "python3",
      "display_name": "Python 3"
    },
    "language_info": {
      "name": "python"
    }
  },
  "cells": [
    {
      "cell_type": "markdown",
      "source": [
        "# **Restful API & Flask Question Solution**"
      ],
      "metadata": {
        "id": "BIwNJFe0L3eF"
      }
    },
    {
      "cell_type": "markdown",
      "source": [
        "# **Q1. What is a RESTful API?**\n",
        "  . A RESTful API (Representational State Transfer Application Programming Interface) is essentially a way for computer systems to communicate with each other over the internet."
      ],
      "metadata": {
        "id": "3DSNkWjFMEPU"
      }
    },
    {
      "cell_type": "markdown",
      "source": [
        "# **Q2. M Explain the concept of API specification.**\n",
        "  . An API specification is essentially a detailed, formal description of an Application Programming Interface (API). It acts as a contract between the API provider and the API consumer, outlining exactly how they should interact."
      ],
      "metadata": {
        "id": "AOxE0Mq_MVtk"
      }
    },
    {
      "cell_type": "markdown",
      "source": [
        "# **Q3. What is Flask, and why is it popular for building APIs?**\n",
        "  . Flask is a lightweight and flexible web framework for Python. It's often referred to as a \"microframework\" because it provides only the essential tools and libraries needed to build web applications, allowing developers to choose and integrate other components as needed. This simplicity and flexibility make it exceptionally popular for building APIs."
      ],
      "metadata": {
        "id": "F3EbvtZ2MiJk"
      }
    },
    {
      "cell_type": "markdown",
      "source": [
        "# **Q4. What is routing in Flask?**\n",
        "  . In Flask, \"routing\" is the process of mapping URLs (Uniform Resource Locators) to specific functions within your Python code. Essentially, it's how Flask determines which piece of code should be executed when a user visits a particular web address."
      ],
      "metadata": {
        "id": "_B_gWNNkMumU"
      }
    },
    {
      "cell_type": "markdown",
      "source": [
        "# **Q5. How do you create a simple Flask application?**\n",
        "  . To create a simple Flask application, import the Flask class, create an instance of it, define routes using decorators, and then run the app."
      ],
      "metadata": {
        "id": "gCk2TYEnNAJU"
      }
    },
    {
      "cell_type": "markdown",
      "source": [
        "# **Q6. What are HTTP methods used in RESTful APIs?**\n",
        "  . In RESTful APIs, HTTP methods are crucial for defining the actions that clients can perform on resources.These methods provide a standardized way to interact with data, and they are fundamental to how RESTful architecture functions."
      ],
      "metadata": {
        "id": "xt8QPObXNaPU"
      }
    },
    {
      "cell_type": "markdown",
      "source": [
        "# **Q7. What is the purpose of the @app.route() decorator in Flask?**\n",
        "  . The @app.route() decorator in Flask serves the crucial purpose of defining routes and associating them with specific view functions."
      ],
      "metadata": {
        "id": "hIQlgVAYNvac"
      }
    },
    {
      "cell_type": "markdown",
      "source": [
        "# **Q8. What is the difference between GET and POST HTTP methods?**\n",
        "  . The GET and POST HTTP methods are fundamental to how web applications and APIs communicate, but they serve distinct purposes."
      ],
      "metadata": {
        "id": "YXIt3EzqN6Td"
      }
    },
    {
      "cell_type": "markdown",
      "source": [
        "# **Q9. How do you handle errors in Flask APIs?**\n",
        "  . Handling errors gracefully is crucial for building robust Flask APIs."
      ],
      "metadata": {
        "id": "iQq_tbdsOHVz"
      }
    },
    {
      "cell_type": "markdown",
      "source": [
        "# **Q10.  How do you connect Flask to a SQL database?**\n",
        "  . Connecting a Flask application to a SQL database typically involves using an Object-Relational Mapper (ORM) or directly executing SQL queries."
      ],
      "metadata": {
        "id": "wFEXPWejOWkb"
      }
    },
    {
      "cell_type": "markdown",
      "source": [
        "# **Q11. What is the role of Flask-SQLAlchemy?**\n",
        "  . Flask-SQLAlchemy is an extension for Flask that simplifies the integration of SQLAlchemy, a powerful SQL toolkit and Object-Relational Mapper (ORM), into your Flask applications.Its primary role is to bridge the gap between Flask and SQLAlchemy, making it much easier to work with databases in a Flask environment."
      ],
      "metadata": {
        "id": "1J8-ignQOhaD"
      }
    },
    {
      "cell_type": "markdown",
      "source": [
        "# **Q12. What are Flask blueprints, and how are they useful?**\n",
        "  . Flask blueprints are a way to organize and modularize your Flask application. They allow you to divide your application into smaller, reusable components, which improves code organization, maintainability, and scalability."
      ],
      "metadata": {
        "id": "d86IPKOMOwCL"
      }
    },
    {
      "cell_type": "markdown",
      "source": [
        "# **Q13. What is the purpose of Flask's request object?**\n",
        "  . Flask's request object serves as a central point for accessing incoming request data within a Flask application. Its primary purpose is to provide a way to interact with the client's request."
      ],
      "metadata": {
        "id": "iFVSR62cO877"
      }
    },
    {
      "cell_type": "markdown",
      "source": [
        "# **Q14. How do you create a RESTful API endpoint using Flask?**\n",
        "  . Creating a RESTful API endpoint in Flask involves defining routes and handling HTTP methods to perform CRUD (Create, Read, Update, Delete) operations on resources."
      ],
      "metadata": {
        "id": "wY502tgFPRxr"
      }
    },
    {
      "cell_type": "markdown",
      "source": [
        "# **Q15. What is the purpose of Flask's jsonify() function?**\n",
        "  . Flask's jsonify() function serves the specific purpose of converting Python dictionaries, lists, and other serializable data structures into a JSON (JavaScript Object Notation) response. This is crucial for building RESTful APIs where data is typically exchanged in JSON format."
      ],
      "metadata": {
        "id": "RMsxU-oYPdKT"
      }
    },
    {
      "cell_type": "markdown",
      "source": [
        "# **Q16. Explain Flask’s url_for() function.**\n",
        "  . Flask's url_for() function is a powerful tool for generating URLs within your Flask application. It's designed to build URLs based on the names of your view functions, rather than hardcoding them directly. This provides several benefits, making your code more maintainable and flexible."
      ],
      "metadata": {
        "id": "IIrnhn8_PqPT"
      }
    },
    {
      "cell_type": "markdown",
      "source": [
        "# **Q17. How does Flask handle static files (CSS, JavaScript, etc.).**\n",
        "  . Flask handles static files like CSS, JavaScript, images, and other assets by serving them from a designated directory called static."
      ],
      "metadata": {
        "id": "DzCo-yc5P5lj"
      }
    },
    {
      "cell_type": "markdown",
      "source": [
        "# **Q18. What is an API specification, and how does it help in building a Flask API?**\n",
        "  . An API specification is a formal, machine-readable description of an API's functionality. It acts as a contract between the API provider and consumers, detailing how to interact with the API. It outlines endpoints, request/response formats, authentication, and other essential information."
      ],
      "metadata": {
        "id": "fkvB1ILKQIEj"
      }
    },
    {
      "cell_type": "markdown",
      "source": [
        "# **Q19. What are HTTP status codes, and why are they important in a Flask API?**\n",
        "  . HTTP status codes are three-digit numbers that a server returns in response to a client's request. They provide information about the outcome of the request, indicating whether it was successful, encountered an error, or required further action. In a Flask API, they are crucial for conveying the status of each request to the client."
      ],
      "metadata": {
        "id": "61RRGzBVQXR7"
      }
    },
    {
      "cell_type": "markdown",
      "source": [
        "# **Q20. How do you handle POST requests in Flask?**\n",
        "  . Handling POST requests in Flask involves accessing the data sent in the request body and processing it accordingly."
      ],
      "metadata": {
        "id": "OIWzJAYjQkTq"
      }
    },
    {
      "cell_type": "markdown",
      "source": [
        "# **Q21. How would you secure a Flask API?**\n",
        "  . Securing a Flask API involves a multi-layered approach, addressing various potential vulnerabilities."
      ],
      "metadata": {
        "id": "ID_8dSbkQzKz"
      }
    },
    {
      "cell_type": "markdown",
      "source": [
        "# **Q22. What is the significance of the Flask-RESTful extension?**\n",
        "  . Securing a Flask API involves a multi-layered approach, addressing various potential vulnerabilities."
      ],
      "metadata": {
        "id": "Er0djLjjRByr"
      }
    },
    {
      "cell_type": "markdown",
      "source": [
        "# **Q23. What is the role of Flask’s session object?**\n",
        "  . Flask's session object plays a crucial role in managing user-specific data across multiple requests within a Flask application. It essentially provides a way to store and retrieve information associated with a particular user's session."
      ],
      "metadata": {
        "id": "eQtPyATDRRXq"
      }
    },
    {
      "cell_type": "markdown",
      "source": [
        "# **Restful API & Flask Practical Solution**"
      ],
      "metadata": {
        "id": "kTcjKi5WRlDq"
      }
    },
    {
      "cell_type": "markdown",
      "source": [
        "# **Q1. How do you create a basic Flask application?**"
      ],
      "metadata": {
        "id": "OgXNeI1WR1aC"
      }
    },
    {
      "cell_type": "code",
      "source": [
        "from flask import Flask\n",
        "\n",
        "app = Flask(__name__)\n",
        "\n",
        "@app.route('/')\n",
        "def hello_world():\n",
        "    return 'Hello, World!'\n",
        "\n",
        "if __name__ == '__main__':\n",
        "    app.run(debug=True)"
      ],
      "metadata": {
        "colab": {
          "base_uri": "https://localhost:8080/"
        },
        "id": "mGAlmw8sSDOK",
        "outputId": "423dc166-112c-4698-cb9c-c4da8213fb11"
      },
      "execution_count": null,
      "outputs": [
        {
          "output_type": "stream",
          "name": "stdout",
          "text": [
            " * Serving Flask app '__main__'\n",
            " * Debug mode: on\n"
          ]
        },
        {
          "output_type": "stream",
          "name": "stderr",
          "text": [
            "INFO:werkzeug:\u001b[31m\u001b[1mWARNING: This is a development server. Do not use it in a production deployment. Use a production WSGI server instead.\u001b[0m\n",
            " * Running on http://127.0.0.1:5000\n",
            "INFO:werkzeug:\u001b[33mPress CTRL+C to quit\u001b[0m\n",
            "INFO:werkzeug: * Restarting with stat\n"
          ]
        }
      ]
    },
    {
      "cell_type": "markdown",
      "source": [
        "# **Q2.  How do you serve static files like images or CSS in Flask?**"
      ],
      "metadata": {
        "id": "JNGPzOLkS5NR"
      }
    },
    {
      "cell_type": "code",
      "source": [
        "from flask import Flask, render_template\n",
        "\n",
        "app = Flask(__name__)\n",
        "\n",
        "@app.route('/')\n",
        "def index():\n",
        "    return render_template('index.html')\n",
        "\n",
        "if __name__ == '__main__':\n",
        "    app.run(debug=True)"
      ],
      "metadata": {
        "colab": {
          "base_uri": "https://localhost:8080/"
        },
        "id": "P2SYb6XQUPvJ",
        "outputId": "d7b5d7e9-9581-47b0-9145-0d385b93e822"
      },
      "execution_count": null,
      "outputs": [
        {
          "output_type": "stream",
          "name": "stdout",
          "text": [
            " * Serving Flask app '__main__'\n",
            " * Debug mode: on\n"
          ]
        },
        {
          "output_type": "stream",
          "name": "stderr",
          "text": [
            "INFO:werkzeug:\u001b[31m\u001b[1mWARNING: This is a development server. Do not use it in a production deployment. Use a production WSGI server instead.\u001b[0m\n",
            " * Running on http://127.0.0.1:5000\n",
            "INFO:werkzeug:\u001b[33mPress CTRL+C to quit\u001b[0m\n",
            "INFO:werkzeug: * Restarting with stat\n"
          ]
        }
      ]
    },
    {
      "cell_type": "markdown",
      "source": [
        "# **Q3. How do you define different routes with different HTTP methods in Flask?**"
      ],
      "metadata": {
        "id": "xurpkDu-U0_Z"
      }
    },
    {
      "cell_type": "code",
      "source": [
        "from flask import Flask, request, jsonify\n",
        "\n",
        "app = Flask(__name__)\n",
        "\n",
        "@app.route('/api/data', methods=['GET'])\n",
        "def get_data():\n",
        "    data = {\"message\": \"This is a GET request\"}\n",
        "    return jsonify(data), 200\n",
        "\n",
        "@app.route('/api/data', methods=['POST'])\n",
        "def create_data():\n",
        "    if request.is_json:\n",
        "        data = request.get_json()\n",
        "        return jsonify({\"message\": \"Data received and processed\", \"received_data\": data}), 201\n",
        "    else:\n",
        "        return jsonify({\"error\": \"Invalid request format. JSON expected\"}), 400\n",
        "\n",
        "@app.route('/api/data/<int:item_id>', methods=['PUT'])\n",
        "def update_data(item_id):\n",
        "    if request.is_json:\n",
        "        data = request.get_json()\n",
        "        return jsonify({\"message\": f\"Data for item {item_id} updated\", \"received_data\": data}), 200\n",
        "    else:\n",
        "        return jsonify({\"error\": \"Invalid request format. JSON expected\"}), 400\n",
        "\n",
        "@app.route('/api/data/<int:item_id>', methods=['DELETE'])\n",
        "def delete_data(item_id):\n",
        "    return jsonify({\"message\": f\"Data for item {item_id} deleted\"}), 200\n",
        "\n",
        "@app.route('/api/data/<int:item_id>', methods=['PATCH'])\n",
        "def patch_data(item_id):\n",
        "    if request.is_json:\n",
        "        data = request.get_json()\n",
        "        return jsonify({\"message\": f\"Data for item {item_id} patched\", \"received_data\": data}), 200\n",
        "    else:\n",
        "        return jsonify({\"error\": \"Invalid request format. JSON expected\"}), 400\n",
        "if __name__ == '__main__':\n",
        "    app.run(debug=True)"
      ],
      "metadata": {
        "id": "2ZKWhS1vXqdM"
      },
      "execution_count": null,
      "outputs": []
    },
    {
      "cell_type": "markdown",
      "source": [
        "# **Q4.  How do you render HTML templates in Flask?**"
      ],
      "metadata": {
        "id": "7IlzHBiIYBMt"
      }
    },
    {
      "cell_type": "code",
      "source": [
        "from flask import Flask, render_template\n",
        "\n",
        "app = Flask(__name__)\n",
        "\n",
        "@app.route('/')\n",
        "def index():\n",
        "    name = \"Flask User\"\n",
        "    items = [\"Item 1\", \"Item 2\", \"Item 3\"]\n",
        "    return render_template('index.html', name=name, items=items)\n",
        "\n",
        "@app.route('/about')\n",
        "def about():\n",
        "    return render_template('about.html')\n",
        "\n",
        "if __name__ == '__main__':\n",
        "    app.run(debug=True)"
      ],
      "metadata": {
        "id": "xrfNnrBpYHGt"
      },
      "execution_count": null,
      "outputs": []
    },
    {
      "cell_type": "markdown",
      "source": [
        "# **Q5. How can you generate URLs for routes in Flask using url_for?**"
      ],
      "metadata": {
        "id": "BOSuvXWyYRcb"
      }
    },
    {
      "cell_type": "code",
      "source": [
        "from flask import Flask, url_for\n",
        "\n",
        "app = Flask(__name__)\n",
        "\n",
        "@app.route('/')\n",
        "def index():\n",
        "    about_url = url_for('about')\n",
        "    profile_url = url_for('profile', username='john_doe')\n",
        "    static_url = url_for('static', filename='style.css')\n",
        "    return f\"\"\"\n",
        "        <p><a href=\"{about_url}\">About</a></p>\n",
        "        <p><a href=\"{profile_url}\">Profile</a></p>\n",
        "        <p><a href=\"{static_url}\">Style Sheet</a></p>\n",
        "    \"\"\"\n",
        "\n",
        "@app.route('/about')\n",
        "def about():\n",
        "    return 'This is the about page.'\n",
        "\n",
        "@app.route('/user/<username>')\n",
        "def profile(username):\n",
        "    return f'Profile page for {username}'\n",
        "\n",
        "@app.route('/static/style.css')\n",
        "def static_file():\n",
        "    return \"body { background-color: lightblue; }\"\n",
        "\n",
        "if __name__ == '__main__':\n",
        "    app.run(debug=True)"
      ],
      "metadata": {
        "id": "fulJ6U-pYZ3b"
      },
      "execution_count": null,
      "outputs": []
    },
    {
      "cell_type": "markdown",
      "source": [
        "# **Q6. How do you handle forms in Flask?**"
      ],
      "metadata": {
        "id": "2s2QNsyYYj_L"
      }
    },
    {
      "cell_type": "code",
      "source": [
        "from flask import Flask, render_template, request, redirect, url_for\n",
        "\n",
        "app = Flask(__name__)\n",
        "\n",
        "@app.route('/', methods=['GET', 'POST'])\n",
        "def index():\n",
        "    if request.method == 'POST':\n",
        "        username = request.form.get('username')\n",
        "        password = request.form.get('password')\n",
        "\n",
        "        if not username:\n",
        "            return render_template('index.html', error='Username is required')\n",
        "        if not password:\n",
        "            return render_template('index.html', error='Password is required')\n",
        "\n",
        "        return redirect(url_for('success', username=username))\n",
        "\n",
        "    return render_template('index.html', error=None)\n",
        "\n",
        "@app.route('/success/<username>')\n",
        "def success(username):\n",
        "    return f'Form submitted successfully! Welcome, {username}!'\n",
        "\n",
        "if __name__ == '__main__':\n",
        "    app.run(debug=True)"
      ],
      "metadata": {
        "id": "ytiLu90fYrVE"
      },
      "execution_count": null,
      "outputs": []
    },
    {
      "cell_type": "markdown",
      "source": [
        "# **Q7. How can you validate form data in Flask?**"
      ],
      "metadata": {
        "id": "K2h3BGXXY0Hy"
      }
    },
    {
      "cell_type": "code",
      "source": [
        "from flask import Flask, render_template, request\n",
        "\n",
        "app = Flask(__name__)\n",
        "\n",
        "@app.route('/', methods=['GET', 'POST'])\n",
        "def index():\n",
        "    error = None\n",
        "    if request.method == 'POST':\n",
        "        username = request.form.get('username')\n",
        "        email = request.form.get('email')\n",
        "\n",
        "        if not username:\n",
        "            error = 'Username is required.'\n",
        "        elif len(username) < 3:\n",
        "            error = 'Username must be at least 3 characters.'\n",
        "        elif '@' not in email:\n",
        "            error = 'Invalid email address.'\n",
        "        else:\n",
        "            return render_template('success.html', username=username)\n",
        "\n",
        "    return render_template('index.html', error=error)"
      ],
      "metadata": {
        "id": "diXIMHS1Y6e6"
      },
      "execution_count": null,
      "outputs": []
    },
    {
      "cell_type": "markdown",
      "source": [
        "# **Q9. How do you redirect to a different route in Flask?**"
      ],
      "metadata": {
        "id": "Vd4IzfMxZC77"
      }
    },
    {
      "cell_type": "code",
      "source": [
        "from flask import Flask, redirect, url_for\n",
        "\n",
        "app = Flask(__name__)\n",
        "\n",
        "@app.route('/')\n",
        "def index():\n",
        "    return 'This is the index page. <a href=\"/redirect_example\">Go to redirect example</a>'\n",
        "\n",
        "@app.route('/redirect_example')\n",
        "def redirect_example():\n",
        "    return redirect(url_for('destination'))\n",
        "\n",
        "@app.route('/destination')\n",
        "def destination():\n",
        "    return 'You have been redirected!'\n",
        "\n",
        "@app.route('/redirect_with_params/<username>')\n",
        "def redirect_with_params(username):\n",
        "    return redirect(url_for('destination_with_params', name=username))\n",
        "\n",
        "@app.route('/destination_with_params/<name>')\n",
        "def destination_with_params(name):\n",
        "    return f'You were redirected with parameter: {name}'\n",
        "\n",
        "if __name__ == '__main__':\n",
        "    app.run(debug=True)"
      ],
      "metadata": {
        "id": "7T50iy4_ZIsW"
      },
      "execution_count": null,
      "outputs": []
    },
    {
      "cell_type": "markdown",
      "source": [
        "# **Q10. How do you handle errors in Flask (e.g., 404)?**"
      ],
      "metadata": {
        "id": "Na5oL2ndZtf6"
      }
    },
    {
      "cell_type": "code",
      "source": [
        "from flask import Flask, render_template\n",
        "\n",
        "app = Flask(__name__)\n",
        "\n",
        "@app.route('/')\n",
        "def index():\n",
        "    return 'This is the index page.'\n",
        "\n",
        "@app.route('/not_found')\n",
        "def not_found():\n",
        "    return \"This page does not exist\", 404\n",
        "\n",
        "@app.errorhandler(404)\n",
        "def page_not_found(e):\n",
        "    return render_template('404.html'), 404\n",
        "\n",
        "@app.errorhandler(500)\n",
        "def internal_server_error(e):\n",
        "    return render_template('500.html'), 500\n",
        "\n",
        "if __name__ == '__main__':\n",
        "    app.run(debug=True)"
      ],
      "metadata": {
        "id": "1Eh1M84aZ38M"
      },
      "execution_count": null,
      "outputs": []
    },
    {
      "cell_type": "markdown",
      "source": [
        "# **Q11. How do you structure a Flask app using Blueprints?**"
      ],
      "metadata": {
        "id": "_KYJpQACZ_U5"
      }
    },
    {
      "cell_type": "code",
      "source": [
        "from flask import Blueprint, render_template\n",
        "\n",
        "main_bp = Blueprint('main', __name__, template_folder='templates')\n",
        "\n",
        "@main_bp.route('/')\n",
        "def index():\n",
        "    return render_template('main/index.html')\n",
        "\n",
        "@main_bp.route('/about')\n",
        "def about():\n",
        "    return render_template('main/about.html')\n",
        "\n",
        "from flask import Flask\n",
        "from blueprints.auth import auth_bp\n",
        "from blueprints.main import main_bp\n",
        "\n",
        "app = Flask(__name__)\n",
        "app.secret_key = 'your_secret_key'\n",
        "\n",
        "app.register_blueprint(auth_bp, url_prefix='/auth')\n",
        "app.register_blueprint(main_bp)\n",
        "\n",
        "if __name__ == '__main__':\n",
        "    app.run(debug=True)"
      ],
      "metadata": {
        "id": "YUDOxyPHaF1a"
      },
      "execution_count": null,
      "outputs": []
    },
    {
      "cell_type": "markdown",
      "source": [
        "# **Q12. How do you define a custom Jinja filter in Flask?**"
      ],
      "metadata": {
        "id": "6lyPIbBHajGC"
      }
    },
    {
      "cell_type": "code",
      "source": [
        "from flask import Flask, render_template\n",
        "\n",
        "app = Flask(__name__)\n",
        "\n",
        "@app.template_filter('reverse')\n",
        "def reverse_string(s):\n",
        "    \"\"\"Reverses a string.\"\"\"\n",
        "    return s[::-1]\n",
        "\n",
        "@app.template_filter('format_currency')\n",
        "def format_currency(value, currency_symbol=\"$\"):\n",
        "    \"\"\"Formats a number as currency.\"\"\"\n",
        "    return f\"{currency_symbol}{value:.2f}\"\n",
        "\n",
        "@app.route('/')\n",
        "def index():\n",
        "    my_string = \"hello\"\n",
        "    price = 123.456\n",
        "    return render_template('index.html', my_string=my_string, price=price)\n",
        "\n",
        "if __name__ == '__main__':\n",
        "    app.run(debug=True)"
      ],
      "metadata": {
        "id": "5C3aeuR2aq_i"
      },
      "execution_count": null,
      "outputs": []
    },
    {
      "cell_type": "markdown",
      "source": [
        "# **Q13. How can you redirect with query parameters in Flask?**"
      ],
      "metadata": {
        "id": "L-Fp30o6a05B"
      }
    },
    {
      "cell_type": "code",
      "source": [
        "from flask import Flask, redirect, url_for, request\n",
        "\n",
        "app = Flask(__name__)\n",
        "\n",
        "@app.route('/')\n",
        "def index():\n",
        "    return 'This is the index page. <a href=\"/redirect_with_query\">Redirect with query</a>'\n",
        "\n",
        "@app.route('/redirect_with_query')\n",
        "def redirect_with_query():\n",
        "    username = \"testuser\"\n",
        "    page = 2\n",
        "    query_string = f\"?username={username}&page={page}\"\n",
        "    return redirect(url_for('destination') + query_string)\n",
        "\n",
        "@app.route('/destination')\n",
        "def destination():\n",
        "    username = request.args.get('username')\n",
        "    page = request.args.get('page')\n",
        "    return f'Destination page. Username: {username}, Page: {page}'\n",
        "\n",
        "if __name__ == '__main__':\n",
        "    app.run(debug=True)\n",
        "\n"
      ],
      "metadata": {
        "id": "k3xjFb7la7iB"
      },
      "execution_count": null,
      "outputs": []
    },
    {
      "cell_type": "markdown",
      "source": [
        "# **Q14. How do you return JSON responses in Flask?**"
      ],
      "metadata": {
        "id": "iBunBy2SbYOY"
      }
    },
    {
      "cell_type": "code",
      "source": [
        "from flask import Flask, jsonify\n",
        "\n",
        "app = Flask(__name__)\n",
        "\n",
        "@app.route('/api/data')\n",
        "def get_data():\n",
        "    data = {\n",
        "        'message': 'Hello from Flask!',\n",
        "        'items': [1, 2, 3],\n",
        "        'nested': {'key': 'value'}\n",
        "    }\n",
        "    return jsonify(data)\n",
        "\n",
        "@app.route('/api/error')\n",
        "def get_error():\n",
        "    error_data = {'error': 'Resource not found'}\n",
        "    return jsonify(error_data), 404\n",
        "\n",
        "@app.route('/api/items/<int:item_id>')\n",
        "def get_item(item_id):\n",
        "    items = {1: 'Item 1', 2: 'Item 2', 3: 'Item 3'}\n",
        "    if item_id in items:\n",
        "        return jsonify({'item': items[item_id]})\n",
        "    else:\n",
        "        return jsonify({'error': 'Item not found'}), 404\n",
        "\n",
        "if __name__ == '__main__':\n",
        "    app.run(debug=True)"
      ],
      "metadata": {
        "id": "3ToCJc8HbeOh"
      },
      "execution_count": null,
      "outputs": []
    },
    {
      "cell_type": "markdown",
      "source": [
        "# **Q15.  How do you capture URL parameters in Flask?**"
      ],
      "metadata": {
        "id": "TSpk41xEbz4o"
      }
    },
    {
      "cell_type": "code",
      "source": [
        "from flask import Flask\n",
        "\n",
        "app = Flask(__name__)\n",
        "\n",
        "@app.route('/user/<username>')\n",
        "def show_user_profile(username):\n",
        "    return f'User profile for {username}'\n",
        "\n",
        "@app.route('/post/<int:post_id>')\n",
        "def show_post(post_id):\n",
        "    return f'Post ID: {post_id}'\n",
        "\n",
        "@app.route('/path/<path:subpath>')\n",
        "def show_subpath(subpath):\n",
        "    return f'Subpath: {subpath}'\n",
        "\n",
        "@app.route('/float/<float:value>')\n",
        "def show_float(value):\n",
        "    return f'Float value: {value}'\n",
        "\n",
        "if __name__ == '__main__':\n",
        "    app.run(debug=True)"
      ],
      "metadata": {
        "id": "CNNtEkB3b7W3"
      },
      "execution_count": null,
      "outputs": []
    }
  ]
}